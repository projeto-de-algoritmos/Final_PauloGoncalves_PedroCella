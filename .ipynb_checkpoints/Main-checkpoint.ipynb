{
 "cells": [
  {
   "cell_type": "code",
   "execution_count": 1,
   "metadata": {},
   "outputs": [],
   "source": [
    "import ipywidgets as widgets\n",
    "from IPython.display import display, clear_output\n",
    "from ipyleaflet import Map"
   ]
  },
  {
   "cell_type": "code",
   "execution_count": 2,
   "metadata": {},
   "outputs": [],
   "source": [
    "# !jupyter nbextension enable --py widgetsnbextension \n",
    "# !jupyter serverextension enable voila"
   ]
  },
  {
   "cell_type": "code",
   "execution_count": 3,
   "metadata": {},
   "outputs": [],
   "source": [
    "# Apresentação\n",
    "\n",
    "name = widgets.Text(placeholder='Digite seu Nome')"
   ]
  },
  {
   "cell_type": "code",
   "execution_count": 4,
   "metadata": {},
   "outputs": [],
   "source": [
    "# Envio Informações\n",
    "\n",
    "button_send = widgets.Button(\n",
    "                description='Enviar',\n",
    "                tooltip='Send',\n",
    "                style={'description_width': 'initial'}\n",
    "            )\n",
    "\n",
    "output = widgets.Output()\n",
    "\n",
    "def on_button_clicked(assinatura):\n",
    "    with output:\n",
    "        clear_output()\n",
    "        if casa.value == \"Apartamento\":\n",
    "            print(f\"Olá {name.value}, pelas suas informações você mora em um {casa.value} localizado em {ra.value}\")\n",
    "        else:\n",
    "            print(f\"Olá {name.value}, pelas suas informações você mora em uma {casa.value} localizado em {ra.value}\")\n",
    "        \n",
    "        if ra.value == \"Plano Piloto\":        \n",
    "            mapa = Map(center = (-15.8, -47.9), zoom = 11, min_zoom = 10, max_zoom = 20)\n",
    "        elif ra.value == \"Gama\":\n",
    "            mapa = Map(center = (-16 ,  -48.05), zoom = 12.5, min_zoom = 10, max_zoom = 20)\n",
    "        elif ra.value == \"Taguatinga\":\n",
    "            mapa = Map(center = (-15.830, -48.05), zoom = 13, min_zoom = 10, max_zoom = 20)\n",
    "        elif ra.value == \"Brazlândia\":\n",
    "            mapa = Map(center = (-15.68 , -48.13), zoom = 12, min_zoom = 10, max_zoom = 20)\n",
    "        elif ra.value == \"Sobradinho\":\n",
    "            mapa = Map(center = (-15.658, -47.8), zoom = 12.5, min_zoom = 10, max_zoom = 20)\n",
    "        elif ra.value == \"Planaltina\":\n",
    "            mapa = Map(center = (-15.61, -47.6537), zoom = 12.5, min_zoom = 10, max_zoom = 20)\n",
    "        elif ra.value == \"Paranoá\":\n",
    "            mapa = Map(center = (-15.7757, -47.7799), zoom = 12.5, min_zoom = 10, max_zoom = 20)\n",
    "        elif ra.value == \"Núcleo Bandeirante\":\n",
    "            mapa = Map(center = (-15.8711, -47.97), zoom = 13.55, min_zoom = 10, max_zoom = 20)\n",
    "        elif ra.value == \"Ceilândia\":\n",
    "            mapa = Map(center = (-15.82, -48.1), zoom = 13.55, min_zoom = 10, max_zoom = 20)\n",
    "        elif ra.value == \"Guará\":\n",
    "            mapa = Map(center = (-15.8263, -47.9826), zoom = 13.55, min_zoom = 10, max_zoom = 20)\n",
    "        elif ra.value == \"Cruzeiro\":\n",
    "            mapa = Map(center = (-15.7955, -47.93985), zoom = 14.9, min_zoom = 10, max_zoom = 20)\n",
    "        elif ra.value == \"Samambaia\":\n",
    "            mapa = Map(center = (-15.875, -48.089), zoom = 14, min_zoom = 10, max_zoom = 20)\n",
    "        elif ra.value == \"Santa Maria\":\n",
    "            mapa = Map(center = (-16.02 ,  -48.0001), zoom = 12.5, min_zoom = 10, max_zoom = 20)\n",
    "        elif ra.value == \"São Sebastião\":\n",
    "            mapa = Map(center = (-15.9, -47.771994797126176), zoom = 12.5, min_zoom = 10, max_zoom = 20)\n",
    "        elif ra.value == \"Recanto das Emas\":\n",
    "            mapa = Map(center = (-15.8781, -48.01), zoom = 14, min_zoom = 10, max_zoom = 20)\n",
    "        elif ra.value == \"Lago Sul\":\n",
    "            mapa = Map(center = (-15.8402, -47.8616), zoom = 14, min_zoom = 10, max_zoom = 20)\n",
    "        elif ra.value == \"Riacho Fundo\":\n",
    "            mapa = Map(center = (-15.8781, -48.0202), zoom = 14, min_zoom = 10, max_zoom = 20)\n",
    "        elif ra.value == \"Lago Norte\":\n",
    "            mapa = Map(center = (-15.7167, -47.8851), zoom = 14, min_zoom = 10, max_zoom = 20)\n",
    "        elif ra.value == \"Candangolândia\":\n",
    "            mapa = Map(center = (-15.8542, -47.9507), zoom = 14, min_zoom = 10, max_zoom = 20)\n",
    "        elif ra.value == \"Águas Claras\":\n",
    "            mapa = Map(center = (-15.84, -48.0283), zoom = 14, min_zoom = 10, max_zoom = 20)\n",
    "        elif ra.value == \"Riacho Fundo II\":\n",
    "            mapa = Map(center = (-15.90415945286249, -48.033989088650074), zoom = 14, min_zoom = 10, max_zoom = 20)\n",
    "        elif ra.value == \"Sudoeste/Octogonal\":\n",
    "            mapa = Map(center = (-15.802, -47.92), zoom = 15, min_zoom = 10, max_zoom = 20)\n",
    "        elif ra.value == \"Varjão\":\n",
    "            mapa = Map(center = (-15.707430643355861, -47.880281884902615), zoom = 15, min_zoom = 10, max_zoom = 20)\n",
    "        elif ra.value == \"Park Way\":\n",
    "            mapa = Map(center = (-15.901, -47.956), zoom = 15, min_zoom = 10, max_zoom = 20)\n",
    "        elif ra.value == \"Estrutural/Scia\":\n",
    "            mapa = Map(center = (-15.786224567157907, -47.98108279348309), zoom = 15, min_zoom = 10, max_zoom = 20)\n",
    "        elif ra.value == \"Sobradinho II\":\n",
    "            mapa = Map(center = (-15.658, -47.8), zoom = 12.5, min_zoom = 10, max_zoom = 20)\n",
    "        elif ra.value == \"Jardim Botânico\":\n",
    "            mapa = Map(center = (-15.861321274865603, -47.828396893654755), zoom = 15, min_zoom = 10, max_zoom = 20)\n",
    "        elif ra.value == \"Itapoã\":\n",
    "            mapa = Map(center = (-15.749, -47.771), zoom = 15, min_zoom = 10, max_zoom = 20)\n",
    "        elif ra.value == \"SIA\":\n",
    "            mapa = Map(center = (-15.808355564297122, -47.9574277708347), zoom = 15, min_zoom = 10, max_zoom = 20)\n",
    "        elif ra.value == \"Vicente Pires\":\n",
    "            mapa = Map(center = (-15.813, -48.01926605972023), zoom = 14, min_zoom = 10, max_zoom = 20)\n",
    "        elif ra.value == \"Fercal\":\n",
    "            mapa = Map(center = (-15.601999050373704, -47.86848572150286), zoom = 15, min_zoom = 10, max_zoom = 20)\n",
    "        elif ra.value == \"Sol Nascente/Pôr do Sol\":\n",
    "            mapa = Map(center = (-16.183741711980403, -47.93664515822677), zoom = 15, min_zoom = 10, max_zoom = 20)\n",
    "        elif ra.value == \"Arniqueira\":\n",
    "            mapa = Map(center = (-15.8577, -47.994408394720004), zoom = 14, min_zoom = 10, max_zoom = 20)\n",
    "        display(mapa)\n",
    "        \n",
    "button_send.on_click(on_button_clicked)\n",
    "\n",
    "vbox_result_envio = widgets.VBox([button_send, output])"
   ]
  },
  {
   "cell_type": "code",
   "execution_count": 5,
   "metadata": {},
   "outputs": [],
   "source": [
    "# Escolha da RA(Região Administrativa)\n",
    "\n",
    "ra = widgets.ToggleButtons(\n",
    "            options=['Plano Piloto', 'Gama', 'Taguatinga', 'Brazlândia', 'Sobradinho',\n",
    "                    'Planaltina', 'Paranoá', 'Núcleo Bandeirante', 'Ceilândia', 'Guará',\n",
    "                    'Cruzeiro', 'Samambaia', 'Santa Maria', 'São Sebastião', 'Recanto das Emas',\n",
    "                    'Lago Sul', 'Riacho Fundo', 'Lago Norte', 'Candangolândia', 'Águas Claras', \n",
    "                    'Riacho Fundo II', 'Sudoeste/Octogonal', 'Varjão', 'Park Way', 'Estrutural/Scia',\n",
    "                    'Sobradinho II', 'Jardim Botânico', 'Itapoã', 'SIA', 'Vicente Pires', 'Fercal', \n",
    "                    'Sol Nascente/Pôr do Sol', 'Arniqueira']\n",
    "        )"
   ]
  },
  {
   "cell_type": "code",
   "execution_count": 6,
   "metadata": {},
   "outputs": [],
   "source": [
    "# Escolha do Tipo de moradia\n",
    "\n",
    "casa = widgets.ToggleButtons(\n",
    "    options=['Apartamento', 'Casa']\n",
    ")"
   ]
  },
  {
   "cell_type": "code",
   "execution_count": 7,
   "metadata": {},
   "outputs": [],
   "source": [
    "# Main\n",
    "\n",
    "text_0 = widgets.HTML(value=\"<h1>Programa de Monitoramento do COVID19</h1>\")\n",
    "text_1 = widgets.HTML(value=\"<h2>Nosso objetivo e mostrar que até vizinhos próximos podem transmitir</h2>\")\n",
    "text_2 = widgets.HTML(value=\"<h3>Identifique-se para podermos começar</h3>\")\n",
    "text_3 = widgets.HTML(value=\"<h3>Escolha a Região Administrativa a qual você pertence</h3>\")\n",
    "text_4 = widgets.HTML(value=\"<h3>Escolha também o tipo de moradia a qual você reside</h3>\")\n",
    "text_5 = widgets.HTML(value=\"<h3>Agora basta enviar</h3>\")\n",
    "\n",
    "vbox_text = widgets.VBox([text_0, text_1, text_2, name, text_3, ra, text_4, casa, text_5, vbox_result_envio])"
   ]
  },
  {
   "cell_type": "code",
   "execution_count": 8,
   "metadata": {},
   "outputs": [
    {
     "data": {
      "application/vnd.jupyter.widget-view+json": {
       "model_id": "e4ac4d825ed442079be55aa07a964e44",
       "version_major": 2,
       "version_minor": 0
      },
      "text/plain": [
       "HBox(children=(VBox(children=(HTML(value='<h1>Programa de Monitoramento do COVID19</h1>'), HTML(value='<h2>Nos…"
      ]
     },
     "metadata": {},
     "output_type": "display_data"
    }
   ],
   "source": [
    "page1 = widgets.HBox([vbox_text])\n",
    "display(page1)"
   ]
  }
 ],
 "metadata": {
  "kernelspec": {
   "display_name": "Python 3",
   "language": "python",
   "name": "python3"
  },
  "language_info": {
   "codemirror_mode": {
    "name": "ipython",
    "version": 3
   },
   "file_extension": ".py",
   "mimetype": "text/x-python",
   "name": "python",
   "nbconvert_exporter": "python",
   "pygments_lexer": "ipython3",
   "version": "3.7.10"
  }
 },
 "nbformat": 4,
 "nbformat_minor": 4
}
