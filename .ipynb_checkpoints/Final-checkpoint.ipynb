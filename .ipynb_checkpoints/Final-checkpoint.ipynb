{
 "cells": [
  {
   "cell_type": "code",
   "execution_count": 1,
   "metadata": {},
   "outputs": [],
   "source": [
    "import ipywidgets as widgets\n",
    "from IPython.display import display, clear_output"
   ]
  },
  {
   "cell_type": "code",
   "execution_count": 2,
   "metadata": {},
   "outputs": [],
   "source": [
    "# !jupyter nbextension enable --py widgetsnbextension \n",
    "# !jupyter serverextension enable voila"
   ]
  },
  {
   "cell_type": "code",
   "execution_count": 3,
   "metadata": {},
   "outputs": [],
   "source": [
    "# Apresentação\n",
    "\n",
    "name = widgets.Text(placeholder='Digite seu Nome')"
   ]
  },
  {
   "cell_type": "code",
   "execution_count": 4,
   "metadata": {},
   "outputs": [],
   "source": [
    "# Envio Informações\n",
    "\n",
    "button_send = widgets.Button(\n",
    "                description='Enviar',\n",
    "                style={'description_width': 'initial'}\n",
    "            )\n",
    "\n",
    "\n",
    "button_exit = widgets.Button(\n",
    "                description='Parar',\n",
    "                style={'description_width': 'initial'}\n",
    "            )\n",
    "\n",
    "output = widgets.Output()\n",
    "\n",
    "def on_button_clicked(evento):\n",
    "    with output:\n",
    "        clear_output()\n",
    "        print(f\"Olá {name.value}\")\n",
    "        \n",
    "        \n",
    "def on_exit(evento):\n",
    "    with output:\n",
    "        clear_output()\n",
    "        name.value = \"\"\n",
    "        \n",
    "button_send.on_click(on_button_clicked)\n",
    "button_exit.on_click(on_exit)\n",
    "\n",
    "vbox_result_envio = widgets.VBox([button_send, button_exit, output])\n"
   ]
  },
  {
   "cell_type": "code",
   "execution_count": 5,
   "metadata": {},
   "outputs": [],
   "source": [
    "# Main\n",
    "\n",
    "text_0 = widgets.HTML(value=\"<h1>Trabalho Final</h1>\")\n",
    "text_1 = widgets.HTML(value=\"<h3>Identifique-se para podermos começar</h3>\")\n",
    "text_3 = widgets.HTML(value=\"<h3>Escolha a Região Administrativa a qual você pertence</h3>\")\n",
    "text_4 = widgets.HTML(value=\"<h3>Escolha também o tipo de moradia a qual você reside</h3>\")\n",
    "text_5 = widgets.HTML(value=\"<h3>Agora basta enviar</h3>\")\n",
    "\n",
    "vbox_text = widgets.VBox([name, vbox_result_envio])"
   ]
  },
  {
   "cell_type": "code",
   "execution_count": 6,
   "metadata": {},
   "outputs": [
    {
     "data": {
      "application/vnd.jupyter.widget-view+json": {
       "model_id": "9ce59b9d50af400194acace67c89e070",
       "version_major": 2,
       "version_minor": 0
      },
      "text/plain": [
       "HBox(children=(VBox(children=(Text(value='', placeholder='Digite seu Nome'), VBox(children=(Button(description…"
      ]
     },
     "metadata": {},
     "output_type": "display_data"
    }
   ],
   "source": [
    "page1 = widgets.HBox([vbox_text])\n",
    "display(page1)"
   ]
  },
  {
   "cell_type": "code",
   "execution_count": null,
   "metadata": {},
   "outputs": [],
   "source": []
  }
 ],
 "metadata": {
  "kernelspec": {
   "display_name": "Python 3",
   "language": "python",
   "name": "python3"
  },
  "language_info": {
   "codemirror_mode": {
    "name": "ipython",
    "version": 3
   },
   "file_extension": ".py",
   "mimetype": "text/x-python",
   "name": "python",
   "nbconvert_exporter": "python",
   "pygments_lexer": "ipython3",
   "version": "3.7.10"
  }
 },
 "nbformat": 4,
 "nbformat_minor": 4
}
